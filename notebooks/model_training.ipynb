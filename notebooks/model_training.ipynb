{
 "cells": [
  {
   "cell_type": "code",
   "execution_count": 1,
   "metadata": {},
   "outputs": [],
   "source": [
    "import pandas as pd\n",
    "from sklearn.pipeline import Pipeline\n",
    "from sklearn.linear_model import LogisticRegression\n",
    "from sklearn.feature_selection import SelectFromModel\n",
    "from joblib import load, dump"
   ]
  },
  {
   "cell_type": "code",
   "execution_count": 2,
   "metadata": {},
   "outputs": [],
   "source": [
    "# Load training sets for WoE and mean transformations\n",
    "X_train_WOE = pd.read_csv('data/X_train_WOE.csv',index_col=0)\n",
    "X_train_mean = pd.read_csv('data/X_train_mean.csv',index_col=0) \n",
    "y_train = pd.read_csv('data/y_train.csv',index_col=['ID']).squeeze()"
   ]
  },
  {
   "cell_type": "code",
   "execution_count": 3,
   "metadata": {},
   "outputs": [],
   "source": [
    "# Load feature selection models\n",
    "fs_WOE = load('models/fs_WOE.joblib')\n",
    "fs_MEAN = load('models/fs_MEAN.joblib')"
   ]
  },
  {
   "cell_type": "code",
   "execution_count": 4,
   "metadata": {},
   "outputs": [],
   "source": [
    "# Training models\n",
    "y_train_ = y_train.astype(int)\n",
    "results_clf = dict()\n",
    "for j,data_preproc in enumerate(['WOE','MEAN']):\n",
    "    if data_preproc=='WOE':\n",
    "        X_train_ = X_train_WOE\n",
    "        fs_model = fs_WOE\n",
    "        eval_metric = 'aicc'\n",
    "    elif data_preproc=='MEAN':\n",
    "        X_train_ = X_train_mean\n",
    "        fs_model = fs_MEAN\n",
    "        eval_metric = 'aicc'\n",
    "    fs_ = SelectFromModel(estimator=fs_model,prefit=True,threshold=1e-6)\n",
    "    model_ = LogisticRegression(class_weight='balanced', solver='saga', \n",
    "                                penalty='l2', C=1.0, random_state=123, \n",
    "                                tol=1e-6, max_iter=int(1e6))\n",
    "    pipeline_model = Pipeline(steps = [('feature_selection', fs_),\n",
    "                                       ('model', model_)])\n",
    "    pm = pipeline_model.fit(X_train_,y_train_)\n",
    "    df_lr_coef = pd.DataFrame({'variable':list(pm[0].get_feature_names_out()),\n",
    "                                'coefficient':list(pm[-1].coef_.reshape(-1).round(3))}).sort_values(by=['variable'])\n",
    "    results_clf.update({data_preproc:{'coeff':df_lr_coef,\n",
    "                                      'pipeline':pm,}\n",
    "                        })"
   ]
  },
  {
   "cell_type": "code",
   "execution_count": 7,
   "metadata": {},
   "outputs": [
    {
     "data": {
      "text/plain": [
       "['models/pipeline_MEAN.joblib']"
      ]
     },
     "execution_count": 7,
     "metadata": {},
     "output_type": "execute_result"
    }
   ],
   "source": [
    "# Save pipeline for WoE and mean transformations\n",
    "dump(results_clf['WOE']['pipeline'], 'models/pipeline_WOE.joblib')\n",
    "dump(results_clf['MEAN']['pipeline'], 'models/pipeline_MEAN.joblib')"
   ]
  }
 ],
 "metadata": {
  "kernelspec": {
   "display_name": "Python 3",
   "language": "python",
   "name": "python3"
  },
  "language_info": {
   "codemirror_mode": {
    "name": "ipython",
    "version": 3
   },
   "file_extension": ".py",
   "mimetype": "text/x-python",
   "name": "python",
   "nbconvert_exporter": "python",
   "pygments_lexer": "ipython3",
   "version": "3.9.16"
  }
 },
 "nbformat": 4,
 "nbformat_minor": 2
}
